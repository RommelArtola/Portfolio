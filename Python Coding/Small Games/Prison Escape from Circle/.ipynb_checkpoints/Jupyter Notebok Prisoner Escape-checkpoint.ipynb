{
 "cells": [
  {
   "cell_type": "code",
   "execution_count": 1,
   "id": "5b488b20",
   "metadata": {},
   "outputs": [
    {
     "name": "stdout",
     "output_type": "stream",
     "text": [
      "It took the walker 16 steps to complete\n"
     ]
    }
   ],
   "source": [
    "import turtle\n",
    "import math\n",
    "import random\n",
    "\n",
    "class Escape():\n",
    "    def __init__(self, fence=100, step_size = 30):\n",
    "        '''Sets forth all the variables to be used in the class/methods of the class.'''\n",
    "        self.fence_radius = fence\n",
    "        self.step_size = step_size\n",
    "        self.turtle = turtle.Turtle()\n",
    "\n",
    "    def fence(self):\n",
    "        '''Creates the fence perimeter for the walker to visualize the bounds'''\n",
    "        self.turtle.penup()\n",
    "        #The middle of the circle will be (0,0) due to the negative radius logic for y below.\n",
    "        self.turtle.setposition(0, -self.fence_radius)\n",
    "        self.turtle.pendown()\n",
    "        #Draws the circle with the given radius.\n",
    "        self.turtle.circle(self.fence_radius)\n",
    "\n",
    "    def capture(self):\n",
    "        '''Setting walker back to origin of the drawing, or (0,0)'''\n",
    "        self.turtle.penup()\n",
    "        self.turtle.goto(0,0)\n",
    "\n",
    "    def escape(self):\n",
    "        '''Moves walker randomly until walker is 200 meters away from origin (0,0).'''\n",
    "        #For fun I wanted to see how many steps it takes to complete. And make random line colors based on RGB\n",
    "        steps_needed = 0\n",
    "        r = random.randint(0,255)\n",
    "        g = random.randint(0,255)\n",
    "        b = random.randint(0,255)\n",
    "        #Get ready to draw.\n",
    "        ##First we set the colormode to RGB values, 255.\n",
    "        turtle.colormode(255)\n",
    "        #We change the pencolor to the randomly generated values\n",
    "        self.turtle.pencolor((r,g,b))\n",
    "        #We set the pen down\n",
    "        self.turtle.pendown()\n",
    "        #Make bigger lines a little bit bigger than than the default.\n",
    "        self.turtle.pensize(3)\n",
    "        #Get position of pen. It should be (0,0) at this point.\n",
    "        x,y = self.turtle.position()\n",
    "        #While loop to keep the walker walking until they reach the perimeter using Pythagorean Theorem.\n",
    "        while math.sqrt(x**2 + y**2) < self.fence_radius:\n",
    "            #degrees in integers.\n",
    "            self.turtle.right(random.randint(0,360))\n",
    "            self.turtle.forward(self.step_size)\n",
    "            x,y = self.turtle.position()\n",
    "            steps_needed += 1\n",
    "        print(f'It took the walker {steps_needed} steps to complete')\n",
    "    \n",
    "    def animate(self):\n",
    "        '''The method that implements the previous methods below and brings them all together.'''\n",
    "        #Draw the circle fence perimeter\n",
    "        self.fence()\n",
    "        #Set the walker back in the middle of the drawn circle.\n",
    "        self.turtle.penup()\n",
    "        self.turtle.goto(0,0)\n",
    "        self.escape()\n",
    "            \n",
    "            \n",
    "    \n",
    "    \n",
    "        \n",
    "\n",
    "\n",
    "\n",
    "walker = Escape(200, 50)\n",
    "walker.animate()\n"
   ]
  }
 ],
 "metadata": {
  "kernelspec": {
   "display_name": "Python 3 (ipykernel)",
   "language": "python",
   "name": "python3"
  },
  "language_info": {
   "codemirror_mode": {
    "name": "ipython",
    "version": 3
   },
   "file_extension": ".py",
   "mimetype": "text/x-python",
   "name": "python",
   "nbconvert_exporter": "python",
   "pygments_lexer": "ipython3",
   "version": "3.9.13"
  }
 },
 "nbformat": 4,
 "nbformat_minor": 5
}
